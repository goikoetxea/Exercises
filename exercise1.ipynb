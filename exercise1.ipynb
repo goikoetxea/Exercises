{
 "cells": [
  {
   "cell_type": "code",
   "execution_count": 78,
   "metadata": {
    "collapsed": false
   },
   "outputs": [],
   "source": [
    "table = [ {'age': 32, 'gender': 'm', 'loc': 'Germany', 'val': 4233},\n",
    "{'age': 23, 'gender': 'f', 'loc': 'US', 'val': 11223},\n",
    "{'age': 31, 'gender': 'f', 'loc': 'France', 'val': 3234},\n",
    "{'age': 41, 'gender': 'm', 'loc': 'France', 'val': 2230},\n",
    "{'age': 19, 'gender': 'm', 'loc': 'Germany', 'val': 42},\n",
    "{'age': 21, 'gender': 'f', 'loc': 'France', 'val': 3315},\n",
    "{'age': 23, 'gender': 'm', 'loc': 'Italy', 'val': 520}\n",
    " ]\n",
    "def group_aggregate(groupby, field,agg):\n",
    "    header = {\"age\" : \"age\", \"gender\" : \"gender\", \"loc\": \"country\", \"transactions\" : \"val\"}\n",
    "    print (\"aggregating: %s\" %header[field])\n",
    "    groupby_field =   [(row[header[groupby]], row[header[field]]) for row in table]\n",
    "    unique =  set((value_groupby) for (value_groupby, value_field) in groupby_field)\n",
    "    for element in unique:\n",
    "        c = agg([value_field for (value_groupby, value_field) in groupby_field])\n",
    "        print (c)"
   ]
  },
  {
   "cell_type": "code",
   "execution_count": 11,
   "metadata": {
    "collapsed": false
   },
   "outputs": [],
   "source": [
    "\n",
    "\n",
    "def group_aggregate(groupby, field,agg, table):\n",
    "\n",
    "    table = [ {'age': 32, 'gender': 'm', 'loc': 'Germany', 'val': 4233},\n",
    "{'age': 23, 'gender': 'f', 'loc': 'US', 'val': 11223},\n",
    "{'age': 31, 'gender': 'f', 'loc': 'France', 'val': 3234},\n",
    "{'age': 41, 'gender': 'm', 'loc': 'France', 'val': 2230},\n",
    "{'age': 19, 'gender': 'm', 'loc': 'Germany', 'val': 42},\n",
    "{'age': 21, 'gender': 'f', 'loc': 'France', 'val': 3315},\n",
    "{'age': 23, 'gender': 'm', 'loc': 'Italy', 'val': 520}\n",
    " ]\n"
   ]
  },
  {
   "cell_type": "code",
   "execution_count": 79,
   "metadata": {
    "collapsed": false
   },
   "outputs": [
    {
     "name": "stdout",
     "output_type": "stream",
     "text": [
      "aggregating: val\n",
      "24797\n",
      "24797\n"
     ]
    }
   ],
   "source": [
    "\n",
    "group_aggregate(\n",
    "groupby = 'gender',\n",
    "field = 'transactions',\n",
    "agg = sum)"
   ]
  },
  {
   "cell_type": "code",
   "execution_count": 70,
   "metadata": {
    "collapsed": false
   },
   "outputs": [
    {
     "name": "stdout",
     "output_type": "stream",
     "text": [
      "aggregating: age\n",
      "m 32\n",
      "f 23\n",
      "f 31\n",
      "m 41\n",
      "m 19\n",
      "f 21\n",
      "m 23\n"
     ]
    }
   ],
   "source": [
    "group_aggregate(\n",
    "groupby = 'gender',\n",
    "field = 'age',\n",
    "agg = min )"
   ]
  },
  {
   "cell_type": "code",
   "execution_count": 71,
   "metadata": {
    "collapsed": false
   },
   "outputs": [
    {
     "name": "stdout",
     "output_type": "stream",
     "text": [
      "aggregating: age\n"
     ]
    },
    {
     "ename": "KeyError",
     "evalue": "'Country'",
     "output_type": "error",
     "traceback": [
      "\u001b[0;31m---------------------------------------------------------------------------\u001b[0m",
      "\u001b[0;31mKeyError\u001b[0m                                  Traceback (most recent call last)",
      "\u001b[0;32m<ipython-input-71-2d77e1665705>\u001b[0m in \u001b[0;36m<module>\u001b[0;34m()\u001b[0m\n\u001b[1;32m      2\u001b[0m \u001b[0mgroupby\u001b[0m \u001b[0;34m=\u001b[0m \u001b[0;34m'Country'\u001b[0m\u001b[0;34m,\u001b[0m\u001b[0;34m\u001b[0m\u001b[0m\n\u001b[1;32m      3\u001b[0m \u001b[0mfield\u001b[0m \u001b[0;34m=\u001b[0m \u001b[0;34m'age'\u001b[0m\u001b[0;34m,\u001b[0m\u001b[0;34m\u001b[0m\u001b[0m\n\u001b[0;32m----> 4\u001b[0;31m agg = max )\n\u001b[0m",
      "\u001b[0;32m<ipython-input-69-e9842f1ee45a>\u001b[0m in \u001b[0;36mgroup_aggregate\u001b[0;34m(groupby, field, agg)\u001b[0m\n\u001b[1;32m     11\u001b[0m     \u001b[0mprint\u001b[0m \u001b[0;34m(\u001b[0m\u001b[0;34m\"aggregating: %s\"\u001b[0m \u001b[0;34m%\u001b[0m\u001b[0mheader\u001b[0m\u001b[0;34m[\u001b[0m\u001b[0mfield\u001b[0m\u001b[0;34m]\u001b[0m\u001b[0;34m)\u001b[0m\u001b[0;34m\u001b[0m\u001b[0m\n\u001b[1;32m     12\u001b[0m     \u001b[0;32mfor\u001b[0m \u001b[0mrow\u001b[0m \u001b[0;32min\u001b[0m \u001b[0mtable\u001b[0m\u001b[0;34m:\u001b[0m\u001b[0;34m\u001b[0m\u001b[0m\n\u001b[0;32m---> 13\u001b[0;31m         \u001b[0mprint\u001b[0m\u001b[0;34m(\u001b[0m\u001b[0mrow\u001b[0m\u001b[0;34m[\u001b[0m\u001b[0mheader\u001b[0m\u001b[0;34m[\u001b[0m\u001b[0mgroupby\u001b[0m\u001b[0;34m]\u001b[0m\u001b[0;34m]\u001b[0m\u001b[0;34m,\u001b[0m \u001b[0mrow\u001b[0m\u001b[0;34m[\u001b[0m\u001b[0mheader\u001b[0m\u001b[0;34m[\u001b[0m\u001b[0mfield\u001b[0m\u001b[0;34m]\u001b[0m\u001b[0;34m]\u001b[0m\u001b[0;34m)\u001b[0m\u001b[0;34m\u001b[0m\u001b[0m\n\u001b[0m",
      "\u001b[0;31mKeyError\u001b[0m: 'Country'"
     ]
    }
   ],
   "source": [
    "group_aggregate(\n",
    "groupby = 'Country',\n",
    "field = 'age',\n",
    "agg = max )"
   ]
  },
  {
   "cell_type": "code",
   "execution_count": null,
   "metadata": {
    "collapsed": true
   },
   "outputs": [],
   "source": []
  },
  {
   "cell_type": "code",
   "execution_count": null,
   "metadata": {
    "collapsed": true
   },
   "outputs": [],
   "source": []
  }
 ],
 "metadata": {
  "anaconda-cloud": {},
  "kernelspec": {
   "display_name": "Python [default]",
   "language": "python",
   "name": "python3"
  },
  "language_info": {
   "codemirror_mode": {
    "name": "ipython",
    "version": 3
   },
   "file_extension": ".py",
   "mimetype": "text/x-python",
   "name": "python",
   "nbconvert_exporter": "python",
   "pygments_lexer": "ipython3",
   "version": "3.5.2"
  }
 },
 "nbformat": 4,
 "nbformat_minor": 1
}
