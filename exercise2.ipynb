{
 "cells": [
  {
   "cell_type": "code",
   "execution_count": 1,
   "metadata": {
    "collapsed": false
   },
   "outputs": [],
   "source": [
    "table = [ {'age': 32, 'gender': 'm', 'loc': 'Germany', 'val': 4233},\n",
    "{'age': 23, 'gender': 'f', 'loc': 'US', 'val': 11223},\n",
    "{'age': 31, 'gender': 'f', 'loc': 'France', 'val': 3234},\n",
    "{'age': 41, 'gender': 'm', 'loc': 'France', 'val': 2230},\n",
    "{'age': 19, 'gender': 'm', 'loc': 'Germany', 'val': 42},\n",
    "{'age': 21, 'gender': 'f', 'loc': 'France', 'val': 3315},\n",
    "{'age': 23, 'gender': 'm', 'loc': 'Italy', 'val': 520}\n",
    " ]\n"
   ]
  },
  {
   "cell_type": "code",
   "execution_count": 171,
   "metadata": {
    "collapsed": false
   },
   "outputs": [
    {
     "name": "stdout",
     "output_type": "stream",
     "text": [
      "+---+------+-------+-----+\n",
      "|age|gender|    loc|  val|\n",
      "+---+------+-------+-----+\n",
      "| 32|     m|Germany| 4233|\n",
      "| 23|     f|     US|11223|\n",
      "| 31|     f| France| 3234|\n",
      "| 41|     m| France| 2230|\n",
      "| 19|     m|Germany|   42|\n",
      "| 21|     f| France| 3315|\n",
      "| 23|     m|  Italy|  520|\n",
      "+---+------+-------+-----+\n"
     ]
    }
   ],
   "source": [
    "keys = table[0].keys()\n",
    "header = {key : key for key in keys}\n",
    "full_table = [header] + table\n",
    "width = {}\n",
    "for col in header:\n",
    "    width[col] = max([len(str(row[col])) for row in full_table])\n",
    "columns_order = list(keys)\n",
    "columns_order.sort()\n",
    "\n",
    "def right_justify(col, value):\n",
    "    return (str(value).rjust(width[col]))\n",
    "\n",
    "horizontal_separator = (\"+\".join([\"-\" * width[col] for col in columns_order]))\n",
    "print (\"+%s+\" %horizontal_separator)\n",
    "\n",
    "for row in full_table:\n",
    "    vertical_separator = (\"|\".join([right_justify(col, row[col]) for col in columns_order]))\n",
    "    print(\"|%s|\" %vertical_separator)\n",
    "    if full_table.index(row) in [0, len(full_table)-1]:\n",
    "        print (\"+%s+\" %horizontal_separator)"
   ]
  },
  {
   "cell_type": "code",
   "execution_count": null,
   "metadata": {
    "collapsed": false
   },
   "outputs": [],
   "source": [
    "def pretty_print(table):\n",
    "    keys = table[0].keys()\n",
    "    header = {key : key for key in keys}\n",
    "    full_table = [header] + list(table)\n",
    "    width_per_column = {}\n",
    "    for col in keys:\n",
    "        width_per_column[col] = max([len(str(row[col])) for row in full_table])\n",
    "    columns_order = list(keys)\n",
    "    columns_order.sort()\n",
    "    \n",
    "    def right_justify(col, value):\n",
    "        return str(value).rjust(width_per_column[col])\n",
    "\n",
    "    row_separator = \"+\".join(['-' * width_per_column[col] for col in columns_order])\n",
    "    print ('+%s+' % row_separator)\n",
    "    \n",
    "    for row in full_table:\n",
    "        row_str = \"|\".join([right_justify(col, row[col]) for col in columns_order])\n",
    "        print (\"|%s|\" % row_str)\n",
    "        if full_table.index(row) in [0,len(full_table)-1]:\n",
    "            print ('+%s+' % row_separator)\n",
    "\n",
    "        \n",
    "pretty_print(table)\n"
   ]
  },
  {
   "cell_type": "code",
   "execution_count": null,
   "metadata": {
    "collapsed": false
   },
   "outputs": [],
   "source": []
  },
  {
   "cell_type": "code",
   "execution_count": null,
   "metadata": {
    "collapsed": false
   },
   "outputs": [],
   "source": []
  },
  {
   "cell_type": "code",
   "execution_count": null,
   "metadata": {
    "collapsed": false
   },
   "outputs": [],
   "source": []
  },
  {
   "cell_type": "code",
   "execution_count": null,
   "metadata": {
    "collapsed": true
   },
   "outputs": [],
   "source": []
  }
 ],
 "metadata": {
  "anaconda-cloud": {},
  "kernelspec": {
   "display_name": "Python [default]",
   "language": "python",
   "name": "python3"
  },
  "language_info": {
   "codemirror_mode": {
    "name": "ipython",
    "version": 3
   },
   "file_extension": ".py",
   "mimetype": "text/x-python",
   "name": "python",
   "nbconvert_exporter": "python",
   "pygments_lexer": "ipython3",
   "version": "3.5.2"
  }
 },
 "nbformat": 4,
 "nbformat_minor": 1
}
