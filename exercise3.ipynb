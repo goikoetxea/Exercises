{
 "cells": [
  {
   "cell_type": "code",
   "execution_count": 3,
   "metadata": {
    "collapsed": false
   },
   "outputs": [
    {
     "data": {
      "text/plain": [
       "[0, 2, 4, 6, 8]"
      ]
     },
     "execution_count": 3,
     "metadata": {},
     "output_type": "execute_result"
    }
   ],
   "source": [
    "generator = (2 * n for n in range(50))\n",
    "def take(n, gen):\n",
    "    return [next(gen) for i in range(n)]\n",
    "take(5, generator)"
   ]
  },
  {
   "cell_type": "code",
   "execution_count": 4,
   "metadata": {
    "collapsed": false
   },
   "outputs": [
    {
     "name": "stdout",
     "output_type": "stream",
     "text": [
      "('1', 'a')\n",
      "('2', 'b')\n",
      "('3', 'c')\n",
      "('4', 'a')\n",
      "('5', 'b')\n",
      "('1', 'c')\n",
      "('2', 'a')\n",
      "('3', 'b')\n",
      "('4', 'c')\n"
     ]
    }
   ],
   "source": [
    "def forever_zip(iterable1, iterable2):\n",
    "    i = 0\n",
    "    while True:\n",
    "        yield (iterable1[i%(len(iterable1))], iterable2[i%(len(iterable2))])\n",
    "        i += 1\n",
    "    \n",
    "for tup in take(9, forever_zip(\"12345\", \"abc\")):\n",
    "    print (tup)"
   ]
  },
  {
   "cell_type": "code",
   "execution_count": 35,
   "metadata": {
    "collapsed": false
   },
   "outputs": [
    {
     "name": "stdout",
     "output_type": "stream",
     "text": [
      "('1', 'a', 'T', 'P')\n",
      "('2', 'b', 'h', 'y')\n",
      "('3', 'c', 'i', 't')\n",
      "('4', 'a', 's', 'h')\n",
      "('5', 'b', ' ', 'o')\n",
      "('1', 'c', 'i', 'n')\n",
      "('2', 'a', 's', 'P')\n",
      "('3', 'b', 'T', 'y')\n",
      "('4', 'c', 'h', 't')\n",
      "('5', 'a', 'i', 'h')\n",
      "('1', 'b', 's', 'o')\n",
      "('2', 'c', ' ', 'n')\n",
      "('3', 'a', 'i', 'P')\n",
      "('4', 'b', 's', 'y')\n",
      "('5', 'c', 'T', 't')\n"
     ]
    }
   ],
   "source": [
    "def forever_zip2(*iterables):\n",
    "    i = 0\n",
    "    while True:\n",
    "        yield tuple([element[i%(len(element))] for element in iterables])\n",
    "        i += 1\n",
    "for t in take(15, forever_zip2(\"12345\", \"abc\", \"This is\", \"Python\")):\n",
    "    print (t)"
   ]
  },
  {
   "cell_type": "code",
   "execution_count": null,
   "metadata": {
    "collapsed": true
   },
   "outputs": [],
   "source": []
  }
 ],
 "metadata": {
  "anaconda-cloud": {},
  "kernelspec": {
   "display_name": "Python [default]",
   "language": "python",
   "name": "python3"
  },
  "language_info": {
   "codemirror_mode": {
    "name": "ipython",
    "version": 3
   },
   "file_extension": ".py",
   "mimetype": "text/x-python",
   "name": "python",
   "nbconvert_exporter": "python",
   "pygments_lexer": "ipython3",
   "version": "3.5.2"
  }
 },
 "nbformat": 4,
 "nbformat_minor": 1
}
